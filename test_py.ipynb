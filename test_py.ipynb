{
 "cells": [
  {
   "cell_type": "code",
   "execution_count": 0,
   "metadata": {
    "application/vnd.databricks.v1+cell": {
     "cellMetadata": {},
     "inputWidgets": {},
     "nuid": "e2983dda-1afe-4b8b-b0d3-b47f2416ece8",
     "showTitle": false,
     "title": ""
    }
   },
   "outputs": [],
   "source": [
    "print(\"hola mundo\")"
   ]
  },
  {
   "cell_type": "code",
   "execution_count": 0,
   "metadata": {
    "application/vnd.databricks.v1+cell": {
     "cellMetadata": {},
     "inputWidgets": {},
     "nuid": "32cc72c4-a59b-4f5c-b632-45b93d64cbd9",
     "showTitle": false,
     "title": ""
    }
   },
   "outputs": [],
   "source": [
    "import mlflow\n",
    "\n",
    "client = mlflow.tracking.MlflowClient()\n",
    "artifact_path = \"dbfs:/databricks/mlflow-tracking/4031694165009512/f2bc91a60600426099a15feebd1b9781/artifacts\"\n",
    "\n",
    "for file_info in client.list_artifacts(artifact_path):\n",
    "    print(file_info.path)"
   ]
  }
 ],
 "metadata": {
  "application/vnd.databricks.v1+notebook": {
   "dashboards": [],
   "language": "python",
   "notebookMetadata": {
    "pythonIndentUnit": 2
   },
   "notebookName": "test_py",
   "notebookOrigID": 1429575594516135,
   "widgets": {}
  }
 },
 "nbformat": 4,
 "nbformat_minor": 0
}
